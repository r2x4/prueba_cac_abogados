{
  "nbformat": 4,
  "nbformat_minor": 0,
  "metadata": {
    "colab": {
      "provenance": [],
      "toc_visible": true,
      "authorship_tag": "ABX9TyOIa9qrC8UBbFhCWTWwwCU+",
      "include_colab_link": true
    },
    "kernelspec": {
      "name": "python3",
      "display_name": "Python 3"
    },
    "language_info": {
      "name": "python"
    }
  },
  "cells": [
    {
      "cell_type": "markdown",
      "metadata": {
        "id": "view-in-github",
        "colab_type": "text"
      },
      "source": [
        "<a href=\"https://colab.research.google.com/github/r2x4/prueba_cac_abogados/blob/main/cac_abogados.ipynb\" target=\"_parent\"><img src=\"https://colab.research.google.com/assets/colab-badge.svg\" alt=\"Open In Colab\"/></a>"
      ]
    },
    {
      "cell_type": "markdown",
      "source": [
        "# **Prueba CAC Abogados**"
      ],
      "metadata": {
        "id": "fZxoMTKILtZS"
      }
    },
    {
      "cell_type": "code",
      "execution_count": null,
      "metadata": {
        "id": "Rft4r4KlLDbb"
      },
      "outputs": [],
      "source": [
        "# llamar datos\n",
        "\n",
        "datos = pd.read_csv('datos.csv')"
      ]
    },
    {
      "cell_type": "code",
      "source": [
        "datos.sample(7)"
      ],
      "metadata": {
        "id": "5m30lrS4L8XN"
      },
      "execution_count": null,
      "outputs": []
    },
    {
      "cell_type": "code",
      "source": [
        "datos.info()"
      ],
      "metadata": {
        "id": "Sk3h1pDkMCMY"
      },
      "execution_count": null,
      "outputs": []
    },
    {
      "cell_type": "code",
      "source": [
        "datos.describe()"
      ],
      "metadata": {
        "id": "F1zHeUbKMD-6"
      },
      "execution_count": null,
      "outputs": []
    },
    {
      "cell_type": "code",
      "source": [
        "# ver nulos\n",
        "\n",
        "datos.isnull().sum()"
      ],
      "metadata": {
        "id": "RrAfLIKUMGes"
      },
      "execution_count": null,
      "outputs": []
    }
  ]
}